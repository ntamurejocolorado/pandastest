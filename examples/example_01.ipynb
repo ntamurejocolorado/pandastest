{
 "cells": [
  {
   "cell_type": "markdown",
   "metadata": {},
   "source": [
    "## Tutorial Pandas"
   ]
  },
  {
   "cell_type": "markdown",
   "metadata": {},
   "source": [
    "# Introducción a las estructuras de datos de pandas.\n",
    "\n",
    "En este primer arichivo se escriben varios ejemplos de como se puede utilizar pandas, y de algunas anotaciones."
   ]
  },
  {
   "cell_type": "code",
   "execution_count": 2,
   "metadata": {},
   "outputs": [],
   "source": [
    "import pandas as pd\n",
    "import numpy as np"
   ]
  },
  {
   "cell_type": "code",
   "execution_count": 3,
   "metadata": {},
   "outputs": [
    {
     "name": "stdout",
     "output_type": "stream",
     "text": [
      "0   -2\n",
      "1    0\n",
      "2    3\n",
      "3    6\n",
      "dtype: int64\n"
     ]
    }
   ],
   "source": [
    "s = pd.Series([-2, 0, 3, 6])\n",
    "print(s)"
   ]
  },
  {
   "cell_type": "markdown",
   "metadata": {},
   "source": [
    "#### Series\n",
    "Estructuras unidimensionales que contienen un array de datos y un array de etiquetas (index) que van asociadas a los datos."
   ]
  },
  {
   "cell_type": "code",
   "execution_count": 5,
   "metadata": {},
   "outputs": [
    {
     "data": {
      "text/plain": [
       "Enero      15\n",
       "Febrero    20\n",
       "Marzo      30\n",
       "dtype: int64"
      ]
     },
     "execution_count": 5,
     "metadata": {},
     "output_type": "execute_result"
    }
   ],
   "source": [
    "ventas = pd.Series([15,20,30], index=[\"Enero\",\"Febrero\",\"Marzo\"])\n",
    "ventas"
   ]
  },
  {
   "cell_type": "markdown",
   "metadata": {},
   "source": [
    "Para extraer los datos podemos hacerlo de dos formas:"
   ]
  },
  {
   "cell_type": "code",
   "execution_count": 7,
   "metadata": {},
   "outputs": [
    {
     "data": {
      "text/plain": [
       "15"
      ]
     },
     "execution_count": 7,
     "metadata": {},
     "output_type": "execute_result"
    }
   ],
   "source": [
    "ventas[0] #Esto mostrará el valor de 15"
   ]
  },
  {
   "cell_type": "code",
   "execution_count": 8,
   "metadata": {},
   "outputs": [
    {
     "data": {
      "text/plain": [
       "30"
      ]
     },
     "execution_count": 8,
     "metadata": {},
     "output_type": "execute_result"
    }
   ],
   "source": [
    "ventas[\"Marzo\"] #Usando la etiqueta mostrará el valor de 30"
   ]
  },
  {
   "cell_type": "markdown",
   "metadata": {},
   "source": [
    "Podemos acceder a los objetos que contienen los índices y los valores a través de los atributos index y values de la serie:"
   ]
  },
  {
   "cell_type": "code",
   "execution_count": 9,
   "metadata": {},
   "outputs": [
    {
     "data": {
      "text/plain": [
       "Index(['Enero', 'Febrero', 'Marzo'], dtype='object')"
      ]
     },
     "execution_count": 9,
     "metadata": {},
     "output_type": "execute_result"
    }
   ],
   "source": [
    "ventas.index #Mostrará todos los valores de los indices."
   ]
  },
  {
   "cell_type": "code",
   "execution_count": 10,
   "metadata": {},
   "outputs": [
    {
     "data": {
      "text/plain": [
       "array([15, 20, 30])"
      ]
     },
     "execution_count": 10,
     "metadata": {},
     "output_type": "execute_result"
    }
   ],
   "source": [
    "ventas.values #Muestra los valores de la derecha asociado con las etiquetas"
   ]
  },
  {
   "cell_type": "code",
   "execution_count": 11,
   "metadata": {},
   "outputs": [],
   "source": [
    "ventas.name = \"Ventas 2020\" # este se suma a los indices"
   ]
  },
  {
   "cell_type": "code",
   "execution_count": 12,
   "metadata": {},
   "outputs": [
    {
     "data": {
      "text/plain": [
       "Enero      15\n",
       "Febrero    20\n",
       "Marzo      30\n",
       "Name: Ventas 2020, dtype: int64"
      ]
     },
     "execution_count": 12,
     "metadata": {},
     "output_type": "execute_result"
    }
   ],
   "source": [
    "ventas"
   ]
  },
  {
   "cell_type": "code",
   "execution_count": 13,
   "metadata": {},
   "outputs": [
    {
     "data": {
      "text/plain": [
       "Meses\n",
       "Enero      15\n",
       "Febrero    20\n",
       "Marzo      30\n",
       "Name: Ventas 2020, dtype: int64"
      ]
     },
     "execution_count": 13,
     "metadata": {},
     "output_type": "execute_result"
    }
   ],
   "source": [
    "ventas.index.name = \"Meses\"\n",
    "ventas"
   ]
  },
  {
   "cell_type": "markdown",
   "metadata": {},
   "source": [
    "El atributo **axes** nos da acceso a una lista con los ejes de la serie (solo contiene un elemento al tratarse de una estructura unidimensional)"
   ]
  },
  {
   "cell_type": "code",
   "execution_count": 14,
   "metadata": {},
   "outputs": [
    {
     "data": {
      "text/plain": [
       "[Index(['Enero', 'Febrero', 'Marzo'], dtype='object', name='Meses')]"
      ]
     },
     "execution_count": 14,
     "metadata": {},
     "output_type": "execute_result"
    }
   ],
   "source": [
    "ventas.axes"
   ]
  },
  {
   "cell_type": "code",
   "execution_count": 15,
   "metadata": {},
   "outputs": [
    {
     "data": {
      "text/plain": [
       "(3,)"
      ]
     },
     "execution_count": 15,
     "metadata": {},
     "output_type": "execute_result"
    }
   ],
   "source": [
    "ventas.shape #size de la serie"
   ]
  },
  {
   "cell_type": "markdown",
   "metadata": {},
   "source": [
    "#### DataFrames\n",
    "Estructuras tabulares de datos orientadas a columnas, con etiquetas tanto en filas como en columnas.\n",
    "A continuación, se crea un datraframe, que está formado por un diccionario y una lista.\n",
    "* Diccionario:\n",
    "    * Claves: son las columnas.\n",
    "    * Los valores son los valores que tiene cada columna.\n",
    "* Lista:\n",
    "    * Los valores de la lista son los index, que son las filas.\n",
    "    \n"
   ]
  },
  {
   "cell_type": "code",
   "execution_count": 16,
   "metadata": {},
   "outputs": [
    {
     "data": {
      "text/html": [
       "<div>\n",
       "<style scoped>\n",
       "    .dataframe tbody tr th:only-of-type {\n",
       "        vertical-align: middle;\n",
       "    }\n",
       "\n",
       "    .dataframe tbody tr th {\n",
       "        vertical-align: top;\n",
       "    }\n",
       "\n",
       "    .dataframe thead th {\n",
       "        text-align: right;\n",
       "    }\n",
       "</style>\n",
       "<table border=\"1\" class=\"dataframe\">\n",
       "  <thead>\n",
       "    <tr style=\"text-align: right;\">\n",
       "      <th></th>\n",
       "      <th>Entradas</th>\n",
       "      <th>Salidas</th>\n",
       "      <th>Valoración</th>\n",
       "      <th>Límite</th>\n",
       "      <th>Cambio</th>\n",
       "    </tr>\n",
       "  </thead>\n",
       "  <tbody>\n",
       "    <tr>\n",
       "      <th>Enero</th>\n",
       "      <td>4</td>\n",
       "      <td>1</td>\n",
       "      <td>66</td>\n",
       "      <td>No</td>\n",
       "      <td>1.34</td>\n",
       "    </tr>\n",
       "    <tr>\n",
       "      <th>Febrero</th>\n",
       "      <td>3</td>\n",
       "      <td>5</td>\n",
       "      <td>57</td>\n",
       "      <td>Sí</td>\n",
       "      <td>1.22</td>\n",
       "    </tr>\n",
       "    <tr>\n",
       "      <th>Marzo</th>\n",
       "      <td>5</td>\n",
       "      <td>6</td>\n",
       "      <td>78</td>\n",
       "      <td>No</td>\n",
       "      <td>-0.56</td>\n",
       "    </tr>\n",
       "    <tr>\n",
       "      <th>Abril</th>\n",
       "      <td>1</td>\n",
       "      <td>78</td>\n",
       "      <td>43</td>\n",
       "      <td>No</td>\n",
       "      <td>0.77</td>\n",
       "    </tr>\n",
       "  </tbody>\n",
       "</table>\n",
       "</div>"
      ],
      "text/plain": [
       "         Entradas  Salidas  Valoración Límite  Cambio\n",
       "Enero           4        1          66     No    1.34\n",
       "Febrero         3        5          57     Sí    1.22\n",
       "Marzo           5        6          78     No   -0.56\n",
       "Abril           1       78          43     No    0.77"
      ]
     },
     "execution_count": 16,
     "metadata": {},
     "output_type": "execute_result"
    }
   ],
   "source": [
    "ventas = pd.DataFrame({\"Entradas\": [4,3,5,1],\n",
    "                       \"Salidas\":[1,5,6,78],\n",
    "                       \"Valoración\": [66,57,78,43],\n",
    "                       \"Límite\": [\"No\",\"Sí\",\"No\",\"No\"],\n",
    "                        \"Cambio\": [1.34,1.22,-0.56,0.77]},\n",
    "                        index = [\"Enero\",\"Febrero\",\"Marzo\",\"Abril\"])\n",
    "ventas"
   ]
  },
  {
   "cell_type": "code",
   "execution_count": 18,
   "metadata": {},
   "outputs": [
    {
     "data": {
      "text/plain": [
       "Index(['Enero', 'Febrero', 'Marzo', 'Abril'], dtype='object')"
      ]
     },
     "execution_count": 18,
     "metadata": {},
     "output_type": "execute_result"
    }
   ],
   "source": [
    "ventas.index # Muestra los atributos de las filas."
   ]
  },
  {
   "cell_type": "code",
   "execution_count": null,
   "metadata": {},
   "outputs": [],
   "source": [
    "ventas.columns # Muestra los nombres de las columnas"
   ]
  },
  {
   "cell_type": "markdown",
   "metadata": {},
   "source": [
    "##### Ejes\n",
    "* Eje 0: eje vertical, es decir las filas.\n",
    "* Eje 1: eje horizontal, es decir las columnas."
   ]
  },
  {
   "cell_type": "code",
   "execution_count": 19,
   "metadata": {},
   "outputs": [
    {
     "data": {
      "text/plain": [
       "[Index(['Enero', 'Febrero', 'Marzo', 'Abril'], dtype='object'),\n",
       " Index(['Entradas', 'Salidas', 'Valoración', 'Límite', 'Cambio'], dtype='object')]"
      ]
     },
     "execution_count": 19,
     "metadata": {},
     "output_type": "execute_result"
    }
   ],
   "source": [
    "ventas.axes"
   ]
  },
  {
   "cell_type": "markdown",
   "metadata": {},
   "source": [
    "* Podemos poner un nombre general tanto a las filas como a las columnas, para lo cual se puede utilizar el atributo **name**"
   ]
  },
  {
   "cell_type": "code",
   "execution_count": 20,
   "metadata": {},
   "outputs": [],
   "source": [
    "ventas.index.name = \"Meses\" # Como index hace referencia a las filas, entonces pondremos nombre a las filas."
   ]
  },
  {
   "cell_type": "code",
   "execution_count": 21,
   "metadata": {},
   "outputs": [],
   "source": [
    "ventas.columns.name = \"Métricas\" # Ponemos nombre a las columnas."
   ]
  },
  {
   "cell_type": "code",
   "execution_count": 22,
   "metadata": {},
   "outputs": [
    {
     "data": {
      "text/html": [
       "<div>\n",
       "<style scoped>\n",
       "    .dataframe tbody tr th:only-of-type {\n",
       "        vertical-align: middle;\n",
       "    }\n",
       "\n",
       "    .dataframe tbody tr th {\n",
       "        vertical-align: top;\n",
       "    }\n",
       "\n",
       "    .dataframe thead th {\n",
       "        text-align: right;\n",
       "    }\n",
       "</style>\n",
       "<table border=\"1\" class=\"dataframe\">\n",
       "  <thead>\n",
       "    <tr style=\"text-align: right;\">\n",
       "      <th>Métricas</th>\n",
       "      <th>Entradas</th>\n",
       "      <th>Salidas</th>\n",
       "      <th>Valoración</th>\n",
       "      <th>Límite</th>\n",
       "      <th>Cambio</th>\n",
       "    </tr>\n",
       "    <tr>\n",
       "      <th>Meses</th>\n",
       "      <th></th>\n",
       "      <th></th>\n",
       "      <th></th>\n",
       "      <th></th>\n",
       "      <th></th>\n",
       "    </tr>\n",
       "  </thead>\n",
       "  <tbody>\n",
       "    <tr>\n",
       "      <th>Enero</th>\n",
       "      <td>4</td>\n",
       "      <td>1</td>\n",
       "      <td>66</td>\n",
       "      <td>No</td>\n",
       "      <td>1.34</td>\n",
       "    </tr>\n",
       "    <tr>\n",
       "      <th>Febrero</th>\n",
       "      <td>3</td>\n",
       "      <td>5</td>\n",
       "      <td>57</td>\n",
       "      <td>Sí</td>\n",
       "      <td>1.22</td>\n",
       "    </tr>\n",
       "    <tr>\n",
       "      <th>Marzo</th>\n",
       "      <td>5</td>\n",
       "      <td>6</td>\n",
       "      <td>78</td>\n",
       "      <td>No</td>\n",
       "      <td>-0.56</td>\n",
       "    </tr>\n",
       "    <tr>\n",
       "      <th>Abril</th>\n",
       "      <td>1</td>\n",
       "      <td>78</td>\n",
       "      <td>43</td>\n",
       "      <td>No</td>\n",
       "      <td>0.77</td>\n",
       "    </tr>\n",
       "  </tbody>\n",
       "</table>\n",
       "</div>"
      ],
      "text/plain": [
       "Métricas  Entradas  Salidas  Valoración Límite  Cambio\n",
       "Meses                                                 \n",
       "Enero            4        1          66     No    1.34\n",
       "Febrero          3        5          57     Sí    1.22\n",
       "Marzo            5        6          78     No   -0.56\n",
       "Abril            1       78          43     No    0.77"
      ]
     },
     "execution_count": 22,
     "metadata": {},
     "output_type": "execute_result"
    }
   ],
   "source": [
    "ventas"
   ]
  },
  {
   "cell_type": "markdown",
   "metadata": {},
   "source": [
    "* Para acceder a los valores del dataframe podemos hacerlo a través de **values**\n",
    "* Como se muestra se extraen todos los valores de la tabla, o lo que es lo mismo se extraen los valores del diccionario creado."
   ]
  },
  {
   "cell_type": "code",
   "execution_count": 23,
   "metadata": {},
   "outputs": [
    {
     "data": {
      "text/plain": [
       "array([[4, 1, 66, 'No', 1.34],\n",
       "       [3, 5, 57, 'Sí', 1.22],\n",
       "       [5, 6, 78, 'No', -0.56],\n",
       "       [1, 78, 43, 'No', 0.77]], dtype=object)"
      ]
     },
     "execution_count": 23,
     "metadata": {},
     "output_type": "execute_result"
    }
   ],
   "source": [
    "ventas.values"
   ]
  },
  {
   "cell_type": "markdown",
   "metadata": {},
   "source": [
    "* Por ultimo, los dataframe son unidades bidimensionales, podriamos decir que son matrices, por tanto al usar el atributo **shape** se obtiene (rows, columns)"
   ]
  },
  {
   "cell_type": "code",
   "execution_count": 24,
   "metadata": {},
   "outputs": [
    {
     "data": {
      "text/plain": [
       "(4, 5)"
      ]
     },
     "execution_count": 24,
     "metadata": {},
     "output_type": "execute_result"
    }
   ],
   "source": [
    "ventas.shape"
   ]
  },
  {
   "cell_type": "markdown",
   "metadata": {},
   "source": [
    "### Creación de Series y DataFrames\n",
    "#### Creación de Series\n",
    "##### 1. A partir de una lista\n",
    "Creamos una serie a partir de una lista, en este caso no ponemos el parámetro index, por tanto se creará por defecto empezando en cero."
   ]
  },
  {
   "cell_type": "code",
   "execution_count": 4,
   "metadata": {},
   "outputs": [
    {
     "data": {
      "text/plain": [
       "0    7\n",
       "1    5\n",
       "2    3\n",
       "dtype: int64"
      ]
     },
     "execution_count": 4,
     "metadata": {},
     "output_type": "execute_result"
    }
   ],
   "source": [
    "s = pd.Series([7, 5, 3])\n",
    "s"
   ]
  },
  {
   "cell_type": "markdown",
   "metadata": {},
   "source": [
    "En el siguiente ejemplo colocamos el valor de los indices.\n"
   ]
  },
  {
   "cell_type": "code",
   "execution_count": 5,
   "metadata": {},
   "outputs": [
    {
     "data": {
      "text/plain": [
       "Enero      7\n",
       "Febrero    5\n",
       "Marzo      3\n",
       "dtype: int64"
      ]
     },
     "execution_count": 5,
     "metadata": {},
     "output_type": "execute_result"
    }
   ],
   "source": [
    "s = pd.Series([7,5,3], index=[\"Enero\",\"Febrero\",\"Marzo\"])\n",
    "s"
   ]
  },
  {
   "cell_type": "markdown",
   "metadata": {},
   "source": [
    "##### 2. A partir de un diccionario"
   ]
  },
  {
   "cell_type": "code",
   "execution_count": 8,
   "metadata": {},
   "outputs": [
    {
     "data": {
      "text/plain": [
       "Enero      7\n",
       "Febrero    5\n",
       "Marzo      3\n",
       "dtype: int64"
      ]
     },
     "execution_count": 8,
     "metadata": {},
     "output_type": "execute_result"
    }
   ],
   "source": [
    "d = {\"Enero\": 7, \"Febrero\":5, \"Marzo\":3}\n",
    "s = pd.Series(d)\n",
    "s"
   ]
  },
  {
   "cell_type": "markdown",
   "metadata": {},
   "source": [
    "Si añadimos el valor index, entonces los valores se colocarán según ese índice.\n"
   ]
  },
  {
   "cell_type": "code",
   "execution_count": 9,
   "metadata": {},
   "outputs": [
    {
     "data": {
      "text/plain": [
       "Abril      NaN\n",
       "Marzo      3.0\n",
       "Febrero    5.0\n",
       "Enero      7.0\n",
       "dtype: float64"
      ]
     },
     "execution_count": 9,
     "metadata": {},
     "output_type": "execute_result"
    }
   ],
   "source": [
    "s = pd.Series(d, index =[\"Abril\",\"Marzo\",\"Febrero\",\"Enero\"])\n",
    "s"
   ]
  },
  {
   "cell_type": "markdown",
   "metadata": {},
   "source": [
    "##### 3. A partir de un escalar"
   ]
  },
  {
   "cell_type": "code",
   "execution_count": 10,
   "metadata": {},
   "outputs": [
    {
     "data": {
      "text/plain": [
       "Enero      7\n",
       "Febrero    7\n",
       "Marzo      7\n",
       "dtype: int64"
      ]
     },
     "execution_count": 10,
     "metadata": {},
     "output_type": "execute_result"
    }
   ],
   "source": [
    "s = pd.Series(7, index = [\"Enero\",\"Febrero\",\"Marzo\"])\n",
    "s"
   ]
  },
  {
   "cell_type": "markdown",
   "metadata": {},
   "source": [
    "#### Creación de dataframes\n",
    "##### 1. A partir de un diccionario de listas de valores"
   ]
  },
  {
   "cell_type": "code",
   "execution_count": 11,
   "metadata": {},
   "outputs": [
    {
     "data": {
      "text/html": [
       "<div>\n",
       "<style scoped>\n",
       "    .dataframe tbody tr th:only-of-type {\n",
       "        vertical-align: middle;\n",
       "    }\n",
       "\n",
       "    .dataframe tbody tr th {\n",
       "        vertical-align: top;\n",
       "    }\n",
       "\n",
       "    .dataframe thead th {\n",
       "        text-align: right;\n",
       "    }\n",
       "</style>\n",
       "<table border=\"1\" class=\"dataframe\">\n",
       "  <thead>\n",
       "    <tr style=\"text-align: right;\">\n",
       "      <th></th>\n",
       "      <th>Numero atómico</th>\n",
       "      <th>Masa atómica</th>\n",
       "      <th>Familia</th>\n",
       "    </tr>\n",
       "  </thead>\n",
       "  <tbody>\n",
       "    <tr>\n",
       "      <th>0</th>\n",
       "      <td>1</td>\n",
       "      <td>1.008</td>\n",
       "      <td>No meta</td>\n",
       "    </tr>\n",
       "    <tr>\n",
       "      <th>1</th>\n",
       "      <td>6</td>\n",
       "      <td>12.011</td>\n",
       "      <td>No metal</td>\n",
       "    </tr>\n",
       "    <tr>\n",
       "      <th>2</th>\n",
       "      <td>37</td>\n",
       "      <td>107.870</td>\n",
       "      <td>Metal</td>\n",
       "    </tr>\n",
       "    <tr>\n",
       "      <th>3</th>\n",
       "      <td>88</td>\n",
       "      <td>226.000</td>\n",
       "      <td>Metal</td>\n",
       "    </tr>\n",
       "  </tbody>\n",
       "</table>\n",
       "</div>"
      ],
      "text/plain": [
       "   Numero atómico  Masa atómica   Familia\n",
       "0               1         1.008   No meta\n",
       "1               6        12.011  No metal\n",
       "2              37       107.870     Metal\n",
       "3              88       226.000     Metal"
      ]
     },
     "execution_count": 11,
     "metadata": {},
     "output_type": "execute_result"
    }
   ],
   "source": [
    "elementos = {\"Numero atómico\":[1,6,37,88],\n",
    "              \"Masa atómica\":[1.008,12.011,107.87, 226],\n",
    "              \"Familia\":[\"No meta\",\"No metal\",\"Metal\",\"Metal\"]}\n",
    "tabla_periodica = pd.DataFrame(elementos)\n",
    "tabla_periodica #Cómo no se ha especificado un index entonces la filas se crearan automáticamente."
   ]
  },
  {
   "cell_type": "markdown",
   "metadata": {},
   "source": [
    "A continuación, especificamos las etiquetas tanto para las filas como para las columnas."
   ]
  },
  {
   "cell_type": "code",
   "execution_count": 13,
   "metadata": {},
   "outputs": [
    {
     "data": {
      "text/html": [
       "<div>\n",
       "<style scoped>\n",
       "    .dataframe tbody tr th:only-of-type {\n",
       "        vertical-align: middle;\n",
       "    }\n",
       "\n",
       "    .dataframe tbody tr th {\n",
       "        vertical-align: top;\n",
       "    }\n",
       "\n",
       "    .dataframe thead th {\n",
       "        text-align: right;\n",
       "    }\n",
       "</style>\n",
       "<table border=\"1\" class=\"dataframe\">\n",
       "  <thead>\n",
       "    <tr style=\"text-align: right;\">\n",
       "      <th></th>\n",
       "      <th>Familia</th>\n",
       "      <th>Numero atómico</th>\n",
       "      <th>Masa atómica</th>\n",
       "    </tr>\n",
       "  </thead>\n",
       "  <tbody>\n",
       "    <tr>\n",
       "      <th>H</th>\n",
       "      <td>No meta</td>\n",
       "      <td>1</td>\n",
       "      <td>1.008</td>\n",
       "    </tr>\n",
       "    <tr>\n",
       "      <th>C</th>\n",
       "      <td>No metal</td>\n",
       "      <td>6</td>\n",
       "      <td>12.011</td>\n",
       "    </tr>\n",
       "    <tr>\n",
       "      <th>Ag</th>\n",
       "      <td>Metal</td>\n",
       "      <td>37</td>\n",
       "      <td>107.870</td>\n",
       "    </tr>\n",
       "    <tr>\n",
       "      <th>Ra</th>\n",
       "      <td>Metal</td>\n",
       "      <td>88</td>\n",
       "      <td>226.000</td>\n",
       "    </tr>\n",
       "  </tbody>\n",
       "</table>\n",
       "</div>"
      ],
      "text/plain": [
       "     Familia  Numero atómico  Masa atómica\n",
       "H    No meta               1         1.008\n",
       "C   No metal               6        12.011\n",
       "Ag     Metal              37       107.870\n",
       "Ra     Metal              88       226.000"
      ]
     },
     "execution_count": 13,
     "metadata": {},
     "output_type": "execute_result"
    }
   ],
   "source": [
    "tabla_periodica = pd.DataFrame(elementos,\n",
    "                               index = [\"H\",\"C\",\"Ag\",\"Ra\"],\n",
    "                               columns =[\"Familia\",\"Numero atómico\",\"Masa atómica\"])\n",
    "tabla_periodica"
   ]
  },
  {
   "cell_type": "markdown",
   "metadata": {},
   "source": [
    "**Recuerda que con el parámetro columns puedes mostrar el orden en el que se muestran las columnas, pero no cambiar el nombre, si haces esto, no se mostraran los valores, mostrándose un valor NaN. Por tanto, las columnas siempre tendrán el nombre de las keys del diccionario que crees, pero te permite modificarlo a gusto en cuanto al orden.**"
   ]
  },
  {
   "cell_type": "markdown",
   "metadata": {},
   "source": [
    "##### 2. Creación de un dataframe a partir de un array Numpy\n",
    "En este caso si no se especifican las etiquetas de las filas y columnas, se asignan etiquetas por defecto."
   ]
  },
  {
   "cell_type": "code",
   "execution_count": 14,
   "metadata": {},
   "outputs": [
    {
     "data": {
      "text/html": [
       "<div>\n",
       "<style scoped>\n",
       "    .dataframe tbody tr th:only-of-type {\n",
       "        vertical-align: middle;\n",
       "    }\n",
       "\n",
       "    .dataframe tbody tr th {\n",
       "        vertical-align: top;\n",
       "    }\n",
       "\n",
       "    .dataframe thead th {\n",
       "        text-align: right;\n",
       "    }\n",
       "</style>\n",
       "<table border=\"1\" class=\"dataframe\">\n",
       "  <thead>\n",
       "    <tr style=\"text-align: right;\">\n",
       "      <th></th>\n",
       "      <th>0</th>\n",
       "      <th>1</th>\n",
       "      <th>2</th>\n",
       "      <th>3</th>\n",
       "    </tr>\n",
       "  </thead>\n",
       "  <tbody>\n",
       "    <tr>\n",
       "      <th>0</th>\n",
       "      <td>2</td>\n",
       "      <td>5</td>\n",
       "      <td>3</td>\n",
       "      <td>2</td>\n",
       "    </tr>\n",
       "    <tr>\n",
       "      <th>1</th>\n",
       "      <td>4</td>\n",
       "      <td>6</td>\n",
       "      <td>7</td>\n",
       "      <td>2</td>\n",
       "    </tr>\n",
       "    <tr>\n",
       "      <th>2</th>\n",
       "      <td>3</td>\n",
       "      <td>2</td>\n",
       "      <td>5</td>\n",
       "      <td>1</td>\n",
       "    </tr>\n",
       "  </tbody>\n",
       "</table>\n",
       "</div>"
      ],
      "text/plain": [
       "   0  1  2  3\n",
       "0  2  5  3  2\n",
       "1  4  6  7  2\n",
       "2  3  2  5  1"
      ]
     },
     "execution_count": 14,
     "metadata": {},
     "output_type": "execute_result"
    }
   ],
   "source": [
    "unidades_datos = np.array([[2,5,3,2],[4,6,7,2],[3,2,5,1]])\n",
    "unidades = pd.DataFrame(unidades_datos)\n",
    "unidades"
   ]
  },
  {
   "cell_type": "code",
   "execution_count": 16,
   "metadata": {},
   "outputs": [
    {
     "data": {
      "text/html": [
       "<div>\n",
       "<style scoped>\n",
       "    .dataframe tbody tr th:only-of-type {\n",
       "        vertical-align: middle;\n",
       "    }\n",
       "\n",
       "    .dataframe tbody tr th {\n",
       "        vertical-align: top;\n",
       "    }\n",
       "\n",
       "    .dataframe thead th {\n",
       "        text-align: right;\n",
       "    }\n",
       "</style>\n",
       "<table border=\"1\" class=\"dataframe\">\n",
       "  <thead>\n",
       "    <tr style=\"text-align: right;\">\n",
       "      <th></th>\n",
       "      <th>Ag</th>\n",
       "      <th>Au</th>\n",
       "      <th>Cu</th>\n",
       "      <th>Pt</th>\n",
       "    </tr>\n",
       "  </thead>\n",
       "  <tbody>\n",
       "    <tr>\n",
       "      <th>2015</th>\n",
       "      <td>2</td>\n",
       "      <td>5</td>\n",
       "      <td>3</td>\n",
       "      <td>2</td>\n",
       "    </tr>\n",
       "    <tr>\n",
       "      <th>2016</th>\n",
       "      <td>4</td>\n",
       "      <td>6</td>\n",
       "      <td>7</td>\n",
       "      <td>2</td>\n",
       "    </tr>\n",
       "    <tr>\n",
       "      <th>2017</th>\n",
       "      <td>3</td>\n",
       "      <td>2</td>\n",
       "      <td>5</td>\n",
       "      <td>1</td>\n",
       "    </tr>\n",
       "  </tbody>\n",
       "</table>\n",
       "</div>"
      ],
      "text/plain": [
       "      Ag  Au  Cu  Pt\n",
       "2015   2   5   3   2\n",
       "2016   4   6   7   2\n",
       "2017   3   2   5   1"
      ]
     },
     "execution_count": 16,
     "metadata": {},
     "output_type": "execute_result"
    }
   ],
   "source": [
    "unidades = pd.DataFrame(unidades_datos,index=[2015,2016,2017],\n",
    "                       columns=[\"Ag\",\"Au\",\"Cu\",\"Pt\"])\n",
    "unidades"
   ]
  },
  {
   "cell_type": "markdown",
   "metadata": {},
   "source": [
    "##### 3. Creación de un dataframe a partir de una lista de diccionarios"
   ]
  },
  {
   "cell_type": "code",
   "execution_count": 17,
   "metadata": {},
   "outputs": [
    {
     "data": {
      "text/html": [
       "<div>\n",
       "<style scoped>\n",
       "    .dataframe tbody tr th:only-of-type {\n",
       "        vertical-align: middle;\n",
       "    }\n",
       "\n",
       "    .dataframe tbody tr th {\n",
       "        vertical-align: top;\n",
       "    }\n",
       "\n",
       "    .dataframe thead th {\n",
       "        text-align: right;\n",
       "    }\n",
       "</style>\n",
       "<table border=\"1\" class=\"dataframe\">\n",
       "  <thead>\n",
       "    <tr style=\"text-align: right;\">\n",
       "      <th></th>\n",
       "      <th>Ag</th>\n",
       "      <th>Au</th>\n",
       "      <th>Cu</th>\n",
       "      <th>Pt</th>\n",
       "    </tr>\n",
       "  </thead>\n",
       "  <tbody>\n",
       "    <tr>\n",
       "      <th>2015</th>\n",
       "      <td>2</td>\n",
       "      <td>5</td>\n",
       "      <td>3</td>\n",
       "      <td>2</td>\n",
       "    </tr>\n",
       "    <tr>\n",
       "      <th>2016</th>\n",
       "      <td>4</td>\n",
       "      <td>6</td>\n",
       "      <td>7</td>\n",
       "      <td>2</td>\n",
       "    </tr>\n",
       "    <tr>\n",
       "      <th>2017</th>\n",
       "      <td>3</td>\n",
       "      <td>2</td>\n",
       "      <td>4</td>\n",
       "      <td>1</td>\n",
       "    </tr>\n",
       "  </tbody>\n",
       "</table>\n",
       "</div>"
      ],
      "text/plain": [
       "      Ag  Au  Cu  Pt\n",
       "2015   2   5   3   2\n",
       "2016   4   6   7   2\n",
       "2017   3   2   4   1"
      ]
     },
     "execution_count": 17,
     "metadata": {},
     "output_type": "execute_result"
    }
   ],
   "source": [
    "unidades_2015 = {\"Ag\":2,\"Au\":5,\"Cu\":3,\"Pt\":2}\n",
    "unidades_2016 = {\"Ag\":4,\"Au\":6,\"Cu\":7,\"Pt\":2}\n",
    "unidades_2017 = {\"Ag\":3,\"Au\":2,\"Cu\":4,\"Pt\":1}\n",
    "unidades = pd.DataFrame([unidades_2015,unidades_2016,unidades_2017],\n",
    "                       index=[2015,2016,2017])\n",
    "unidades"
   ]
  },
  {
   "cell_type": "markdown",
   "metadata": {},
   "source": [
    "**Otros métodos son:\n",
    "* pandas.DataFrame.from_dict: crea un dataframe a partir de un diccionario de diccionarios o de secuencias tipo array.\n",
    "* pandas.DataFrame.from_records: parte de una lista de tuplas o arrays con un tipo estructurado.**"
   ]
  },
  {
   "cell_type": "code",
   "execution_count": null,
   "metadata": {},
   "outputs": [],
   "source": []
  }
 ],
 "metadata": {
  "kernelspec": {
   "display_name": "Python 3",
   "language": "python",
   "name": "python3"
  },
  "language_info": {
   "codemirror_mode": {
    "name": "ipython",
    "version": 3
   },
   "file_extension": ".py",
   "mimetype": "text/x-python",
   "name": "python",
   "nbconvert_exporter": "python",
   "pygments_lexer": "ipython3",
   "version": "3.7.9"
  }
 },
 "nbformat": 4,
 "nbformat_minor": 4
}
